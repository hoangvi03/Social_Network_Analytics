{
 "cells": [
  {
   "cell_type": "code",
   "execution_count": 11,
   "metadata": {},
   "outputs": [],
   "source": [
    "import nltk\n",
    "from nltk.corpus import stopwords\n",
    "import re\n",
    "from gensim import corpora\n",
    "import joblib\n",
    "import pandas as pd\n",
    "\n",
    "# Tải mô hình\n",
    "tfidf = joblib.load(\"tfidf_model.pkl\")\n",
    "kmeans = joblib.load(\"kmeans_model.pkl\")\n",
    "lda_model = joblib.load(\"lda_model.pkl\")\n",
    "dictionary = joblib.load(\"dictionary.pkl\")\n",
    "svd = joblib.load(\"svd_model.pkl\")"
   ]
  },
  {
   "cell_type": "code",
   "execution_count": 12,
   "metadata": {},
   "outputs": [],
   "source": [
    "# Hàm làm sạch tweet\n",
    "stop_words = set(stopwords.words(\"english\"))\n",
    "def clean_text(text):\n",
    "    text = re.sub(r\"http\\S+|www\\S+|https\\S+\", \"\", text)  # Xóa URL\n",
    "    text = re.sub(r\"[^a-zA-Z\\s]\", \"\", text)  # Xóa ký tự đặc biệt\n",
    "    text = text.lower()\n",
    "    return \" \".join([word for word in text.split() if word not in stop_words])\n",
    "\n",
    "# Hàm dự đoán sự quan tâm\n",
    "def predict_user_interest(new_tweets):\n",
    "    # Làm sạch tweet\n",
    "    cleaned_tweets = [clean_text(tweet) for tweet in new_tweets]\n",
    "    \n",
    "    # Biểu diễn TF-IDF\n",
    "    tfidf_new = tfidf.transform(cleaned_tweets)\n",
    "    \n",
    "    # Giảm chiều dữ liệu mới\n",
    "    tfidf_new_reduced = svd.transform(tfidf_new)  # Giảm từ 1000 xuống 50 đặc trưng\n",
    "    \n",
    "    # Dự đoán cụm (K-Means)\n",
    "    cluster = kmeans.predict(tfidf_new_reduced)[0]\n",
    "    \n",
    "    # Chuẩn bị dữ liệu cho LDA\n",
    "    tokenized_tweets = [tweet.split() for tweet in cleaned_tweets]\n",
    "    bow_corpus = [dictionary.doc2bow(text) for text in tokenized_tweets]\n",
    "    \n",
    "    # Dự đoán chủ đề (LDA)\n",
    "    topic_dist = lda_model[bow_corpus[0]]  # Phân phối chủ đề cho tweet đầu tiên\n",
    "    main_topic = max(topic_dist, key=lambda x: x[1])[0]  # Chủ đề có xác suất cao nhất\n",
    "    \n",
    "    # Tính trung bình TF-IDF để diễn giải\n",
    "    tfidf_df = pd.DataFrame(tfidf_new.toarray(), columns=tfidf.get_feature_names_out())\n",
    "    user_tfidf_new = tfidf_df.mean(axis=0)\n",
    "    top_keywords = user_tfidf_new.sort_values(ascending=False).head(5)\n",
    "    \n",
    "    return {\n",
    "        \"cluster\": int(cluster),\n",
    "        \"main_topic\": int(main_topic),\n",
    "        \"top_keywords\": top_keywords.to_dict()\n",
    "    }"
   ]
  },
  {
   "cell_type": "code",
   "execution_count": 13,
   "metadata": {},
   "outputs": [
    {
     "name": "stdout",
     "output_type": "stream",
     "text": [
      "Dự đoán sự quan tâm:\n",
      "Cụm: 3\n",
      "Chủ đề quan tâm: 4\n",
      "Top từ khóa: {'work': 0.35982173753965196, 'today': 0.3471718842215564, 'listening': 0.29801750284411727, 'music': 0.28849011241882017, 'going': 0.2027887122945104}\n"
     ]
    }
   ],
   "source": [
    "new_tweets = [\"I love listening to music and going to concerts\", \"Work is so stressful today\"]\n",
    "result = predict_user_interest(new_tweets)\n",
    "print(\"Dự đoán sự quan tâm:\")\n",
    "print(f\"Cụm: {result['cluster']}\")\n",
    "print(f\"Chủ đề quan tâm: {result['main_topic']}\")\n",
    "print(\"Top từ khóa:\", result[\"top_keywords\"])"
   ]
  },
  {
   "cell_type": "code",
   "execution_count": null,
   "metadata": {},
   "outputs": [],
   "source": []
  }
 ],
 "metadata": {
  "kernelspec": {
   "display_name": "base",
   "language": "python",
   "name": "python3"
  },
  "language_info": {
   "codemirror_mode": {
    "name": "ipython",
    "version": 3
   },
   "file_extension": ".py",
   "mimetype": "text/x-python",
   "name": "python",
   "nbconvert_exporter": "python",
   "pygments_lexer": "ipython3",
   "version": "3.12.9"
  }
 },
 "nbformat": 4,
 "nbformat_minor": 2
}
